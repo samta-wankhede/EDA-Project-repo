{
  "nbformat": 4,
  "nbformat_minor": 0,
  "metadata": {
    "colab": {
      "provenance": []
    },
    "kernelspec": {
      "name": "python3",
      "display_name": "Python 3"
    },
    "language_info": {
      "name": "python"
    }
  },
  "cells": [
    {
      "cell_type": "code",
      "execution_count": null,
      "metadata": {
        "id": "L8iFB3KwYdJT"
      },
      "outputs": [],
      "source": []
    },
    {
      "cell_type": "markdown",
      "source": [
        "### **Insights about the Churn Data Analysis**\n",
        "\n",
        "1. Senior citizens are more likely to churn with a churn rate of ~42%\n",
        "2. People paying through electronic check are more churners\n",
        "3. High monthly charge and low total charges are leading to maximum number of churned customers.\n",
        "4. Customers with no partners are high churners\n",
        "5. Females with no partners are high churners\n",
        "6. Females with CC users are more churners than males\n",
        "7. Females with phone services are more churners than males with phone services.\n",
        "8. Males with multiple lines are more churners than females having multiple lines.\n",
        "9. Customers with fibre Optic services are more churners than female with fibre optic.\n",
        "10. Highest churners are month to month customers\n",
        "11. Customers with 2 year contracts are less likely to churn.\n",
        "12. Customers with no tech support are more churners than the customers who receive tech support\n",
        "13. Customers with no online security are more churners than customer who have online security."
      ],
      "metadata": {
        "id": "7kRE1uC0YfL6"
      }
    }
  ]
}